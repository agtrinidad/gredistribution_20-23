{
 "cells": [
  {
   "cell_type": "code",
   "execution_count": 1,
   "metadata": {},
   "outputs": [],
   "source": [
    "import pandas as pd\n",
    "\n",
    "#img2table is a really awesome open-source package dedicated to converting images to manipulable tabular data\n",
    "from img2table.document import PDF #Specifying PDF usage\n",
    "from img2table.ocr import PaddleOCR #Specifying OCR system\n",
    "\n",
    "from statsmodels.stats.weightstats import DescrStatsW \n",
    "#We're going to be doing some statistics..."
   ]
  },
  {
   "cell_type": "code",
   "execution_count": 2,
   "metadata": {},
   "outputs": [],
   "source": [
    "gre_pdf = PDF(\"gre-guide-table-3a.pdf\") #Pathing to particular PDF"
   ]
  },
  {
   "cell_type": "code",
   "execution_count": 3,
   "metadata": {},
   "outputs": [],
   "source": [
    "padd_ocr = PaddleOCR(lang=\"en\") #Loading PaddleOCR, an open-source OCR toolkit based on PaddlePaddle\n",
    "pdf_tables = gre_pdf.extract_tables(ocr=padd_ocr)"
   ]
  },
  {
   "cell_type": "code",
   "execution_count": 4,
   "metadata": {},
   "outputs": [],
   "source": [
    "greAvg = pd.concat([pdf_tables[0][0].df,\n",
    "                    pdf_tables[1][0].df, \n",
    "                    pdf_tables[2][0].df, \n",
    "                    pdf_tables[3][0].df], \n",
    "                    axis = 'index')\n",
    "\n",
    "#There are four pages, each with one table, so we have to specify a dataframe from each page\n",
    "#Numeration above reflects Python's native zero-indexing\n",
    "\n",
    "greAvg = greAvg.drop_duplicates(subset=0) #There's a few duplicate rows that ETS had for viewer clarity\n",
    "greAvg.columns = greAvg.iloc[0]\n",
    "\n",
    "#Column name cleaning\n",
    "greAvg.columns = greAvg.columns.str.replace(r'\\n',' ', regex=True)\n",
    "greAvg.columns = greAvg.columns.str.replace('- ',' - ')\n",
    "greAvg.columns = greAvg.columns.str.replace(r'^([a-zA-Z]{2}) ', r'\\1: ', regex=True)\n",
    "greAvg.columns = greAvg.columns.str.replace(r' M$', r' Mean', regex=True)\n",
    "\n",
    "greAvg['Intended Graduate Major'] = greAvg['Intended Graduate Major'].str.replace(r' ─ ',r': ').str.replace(r'\\n',' ', regex=True)\n",
    "\n",
    "greAvg = greAvg.drop(greAvg.index[0]).reset_index().drop('index', axis = 'columns')\n",
    "\n"
   ]
  },
  {
   "cell_type": "code",
   "execution_count": 5,
   "metadata": {},
   "outputs": [],
   "source": [
    "#Casting this field as string\n",
    "greAvg['Intended Graduate Major'] = greAvg['Intended Graduate Major'].astype('string')"
   ]
  },
  {
   "cell_type": "code",
   "execution_count": 6,
   "metadata": {},
   "outputs": [],
   "source": [
    "#Filling N/A values\n",
    "greAvg = greAvg.fillna(0)\n",
    "\n",
    "#Removing commas from the N values, caused them to have been read as string\n",
    "greAvg['VR: N'] = greAvg['VR: N'].str.replace(',','').astype('float')\n",
    "greAvg['QR: N'] = greAvg['QR: N'].str.replace(',','').astype('float')\n",
    "greAvg['AW: N'] = greAvg['AW: N'].str.replace(',','').astype('float')\n"
   ]
  },
  {
   "cell_type": "code",
   "execution_count": 7,
   "metadata": {},
   "outputs": [],
   "source": [
    "#Casting numerical values as float\n",
    "#String major name is stored as string, so will remain unaffected\n",
    "\n",
    "for column in greAvg.columns:\n",
    "    if greAvg[column].dtype == 'object':\n",
    "        greAvg[column] = greAvg[column].astype(float)"
   ]
  },
  {
   "cell_type": "code",
   "execution_count": 8,
   "metadata": {},
   "outputs": [],
   "source": [
    "greAvg['Intended Graduate Major'] = pd.Series(range(1,61)).astype('string').str.pad(2, side='left', fillchar='0') + ': ' + greAvg['Intended Graduate Major']\n",
    "#Enumerating beginning of each string to maintain ETS-intended order"
   ]
  },
  {
   "cell_type": "code",
   "execution_count": 9,
   "metadata": {},
   "outputs": [],
   "source": [
    "#Adding suffixes to entries\n",
    "greAvg.iloc[12:18,0] = greAvg.iloc[12:18,0].astype('string') + ' Engineering' #Varieties of engineering\n",
    "\n",
    "greAvg.iloc[37:39,0] = greAvg.iloc[37:39,0].astype('string') + ' Education' #Levels of pupil education\n",
    "greAvg.iloc[40:43,0] = greAvg.iloc[40:43,0].astype('string') + ' Education' #Levels of pupil education II"
   ]
  },
  {
   "cell_type": "code",
   "execution_count": 10,
   "metadata": {},
   "outputs": [],
   "source": [
    "#Making new entry for \"all\" test takers\n",
    "#This is going to avoid \"other fields\" as ETS didn't specify values for them\n",
    "#This can be accomplished by multiplying each row's values by the corresponding \"N\" value\n",
    "#To avoid unnecessary errors, a copy of the dataframe will be made here\n",
    "\n",
    "greOperational = greAvg.copy()\n",
    "\n",
    "#Dropping the empty categories\n",
    "greOperational = greOperational.drop(greOperational[greOperational['Intended Graduate Major'] == '52: OTHER FIELDS'].index)\n",
    "greOperational = greOperational.drop(greOperational[greOperational['Intended Graduate Major'] == '60: Other Fields, Other*'].index)\n",
    "\n",
    "#Dropping the supercategories\n",
    "supercatlist = ['01: LIFE SCIENCES', \n",
    "        '05: PHYSICAL SCIENCES', \n",
    "        '12: ENGINEERING', \n",
    "        '20: SOC. & BEHAVIORAL SCI.', \n",
    "        '27: HUMANITIES & ARTS', \n",
    "        '35: EDUCATION', '46: BUSINESS',]\n",
    "\n",
    "for cmajor in supercatlist:\n",
    "    greOperational = greOperational.drop(greOperational[greOperational['Intended Graduate Major'] == cmajor].index)"
   ]
  },
  {
   "cell_type": "code",
   "execution_count": 11,
   "metadata": {},
   "outputs": [],
   "source": [
    "#Take each percentage, divide by 100 to convert to proportion, multiply by N to approximate reversion to raw frequency\n",
    "greOperational.iloc[:,1:10] = greOperational.iloc[:,1:10].div(100).mul(greOperational['VR: N'], axis='index').round(0)\n",
    "greOperational.iloc[:,13:22] = greOperational.iloc[:,13:22].div(100).mul(greOperational['QR: N'], axis='index').round(0)\n",
    "greOperational.iloc[:,24:32] = greOperational.iloc[:,24:32].div(100).mul(greOperational['AW: N'], axis='index').round(0)\n"
   ]
  },
  {
   "cell_type": "code",
   "execution_count": 12,
   "metadata": {},
   "outputs": [],
   "source": [
    "#And then we sum all these items...\n",
    "\n",
    "greGrandtotal = greOperational.sum(axis = 'index', numeric_only = True).to_frame().transpose()\n",
    "greGrandtotal.insert(0, column='placeholder', value='')\n"
   ]
  },
  {
   "cell_type": "code",
   "execution_count": 13,
   "metadata": {},
   "outputs": [],
   "source": [
    "#Setting column names...\n",
    "greGrandtotal.columns = greOperational.columns"
   ]
  },
  {
   "cell_type": "code",
   "execution_count": 14,
   "metadata": {},
   "outputs": [],
   "source": [
    "#Defining weighted means formula using DescrStatsW...\n",
    "def wmean(observations, weightlist):\n",
    "    result = DescrStatsW(observations, weights = weightlist, ddof = 1).mean\n",
    "    return result"
   ]
  },
  {
   "cell_type": "code",
   "execution_count": 15,
   "metadata": {},
   "outputs": [],
   "source": [
    "#Using greOperational because we dropped the empty \"Other Fields\" values there\n",
    "\n",
    "greGrandtotal['VR: Mean'] = wmean(greOperational['VR: Mean'],greOperational['VR: N'])\n",
    "greGrandtotal['QR: Mean'] = wmean(greOperational['QR: Mean'],greOperational['QR: N'])\n",
    "greGrandtotal['AW: Mean'] = wmean(greOperational['AW: Mean'],greOperational['AW: N'])"
   ]
  },
  {
   "cell_type": "code",
   "execution_count": 16,
   "metadata": {},
   "outputs": [],
   "source": [
    "#Calculating proportions then converting to percentages\n",
    "greGrandtotal.iloc[:,1:10] = greGrandtotal.iloc[:,1:10].div(greGrandtotal['VR: N'], axis = 'index').round(4) * 100\n",
    "greGrandtotal.iloc[:,13:22] = greGrandtotal.iloc[:,13:22].div(greGrandtotal['QR: N'], axis = 'index').round(4) * 100\n",
    "greGrandtotal.iloc[:,24:32] = greGrandtotal.iloc[:,24:32].div(greGrandtotal['AW: N'], axis = 'index').round(4) * 100\n",
    "\n",
    "#Resetting calculated means\n",
    "greGrandtotal['VR: Mean'] = greGrandtotal['VR: Mean'].round(1)\n",
    "greGrandtotal['QR: Mean'] = greGrandtotal['QR: Mean'].round(1)\n",
    "greGrandtotal['AW: Mean'] = greGrandtotal['AW: Mean'].round(2)"
   ]
  },
  {
   "cell_type": "code",
   "execution_count": 17,
   "metadata": {},
   "outputs": [],
   "source": [
    "#Calcuating a weighted standard deviation is a little more complicated!\n",
    "#The good thing is that greAvg is left unaltered...\n",
    "#So we're still able to use that set as our observations to calculate the weighted SD.\n",
    "\n",
    "#Using DescrStatsW that we called above...\n",
    "\n",
    "def wstd(observations, weightlist):\n",
    "    result = DescrStatsW(observations, weights = weightlist, ddof = 1).std \n",
    "    return result"
   ]
  },
  {
   "cell_type": "code",
   "execution_count": 18,
   "metadata": {},
   "outputs": [
    {
     "name": "stdout",
     "output_type": "stream",
     "text": [
      "0    5.753037\n",
      "Name: QR: SD, dtype: float64\n"
     ]
    }
   ],
   "source": [
    "#Calculating standard deviation from here...\n",
    "greGrandtotal['QR: SD'] = wstd(greOperational['QR: Mean'], greOperational['QR: N'])\n",
    "greGrandtotal['VR: SD'] = wstd(greOperational['VR: Mean'], greOperational['VR: N'])\n",
    "greGrandtotal['AW: SD'] = wstd(greOperational['AW: Mean'], greOperational['AW: N'])\n",
    "\n",
    "print(greGrandtotal['QR: SD']) #Checking that things make sense!"
   ]
  },
  {
   "cell_type": "code",
   "execution_count": 19,
   "metadata": {},
   "outputs": [],
   "source": [
    "greGrandtotal.iloc[:,1:] = greGrandtotal.iloc[:,1:].round(2)"
   ]
  },
  {
   "cell_type": "code",
   "execution_count": 20,
   "metadata": {},
   "outputs": [],
   "source": [
    "#Prepping for integration into main sheet\n",
    "greGrandtotal['Intended Graduate Major'] = '61: GRAND TOTAL'\n",
    "\n",
    "#It should be noted here that the data only concerns those who reported particular intended majors\n",
    "#If ETS data from July 2020 to June 2023 is to be believed, only half of test-takers repoted majors\n",
    "#That is, roughly 591,000 out of 1,041,330 at the highest estimate"
   ]
  },
  {
   "cell_type": "code",
   "execution_count": 21,
   "metadata": {},
   "outputs": [],
   "source": [
    "#Integrating into main\n",
    "greGrandtotal.rename(index={0:(len(greAvg))},inplace=True)\n",
    "greAvg = pd.concat([greAvg,greGrandtotal])"
   ]
  },
  {
   "cell_type": "code",
   "execution_count": 22,
   "metadata": {},
   "outputs": [],
   "source": [
    "#We'll be tacking the GRE Population data from the same period on for an improved user experience.\n",
    "greETS = {'Intended Graduate Major':    '62: ETS-Provided Population',\n",
    "          'VR: Mean':   float(151.29),\n",
    "          'QR: Mean':   float(156.93),\n",
    "          'AW: Mean':   float(3.49),\n",
    "          \n",
    "          'VR: SD':   float(8.27),\n",
    "          'QR: SD':   float(9.89),\n",
    "          'AW: SD':   float(0.88),\n",
    "          \n",
    "          'VR: N':   float(1039310),\n",
    "          'QR: N':   float(1041330),\n",
    "          'AW: N':   float(1037639)}\n",
    "\n",
    "greETS = pd.Series(greETS).to_frame().transpose()\n",
    "greETS.rename(index={0:(len(greAvg))},inplace=True)"
   ]
  },
  {
   "cell_type": "code",
   "execution_count": 23,
   "metadata": {},
   "outputs": [
    {
     "name": "stderr",
     "output_type": "stream",
     "text": [
      "C:\\Users\\atrinidad\\AppData\\Local\\Temp\\ipykernel_26328\\1090336116.py:2: FutureWarning: Downcasting object dtype arrays on .fillna, .ffill, .bfill is deprecated and will change in a future version. Call result.infer_objects(copy=False) instead. To opt-in to the future behavior, set `pd.set_option('future.no_silent_downcasting', True)`\n",
      "  greAvg = greAvg.fillna(0)\n"
     ]
    }
   ],
   "source": [
    "greAvg = pd.concat([greAvg,greETS])\n",
    "greAvg = greAvg.fillna(0)"
   ]
  },
  {
   "cell_type": "code",
   "execution_count": 24,
   "metadata": {},
   "outputs": [],
   "source": [
    "#Exporting to CSV for further manipulation\n",
    "greAvg.to_csv(\"gre-table.csv\", sep=',', encoding='utf-8', index=False)"
   ]
  }
 ],
 "metadata": {
  "kernelspec": {
   "display_name": ".conda",
   "language": "python",
   "name": "python3"
  },
  "language_info": {
   "codemirror_mode": {
    "name": "ipython",
    "version": 3
   },
   "file_extension": ".py",
   "mimetype": "text/x-python",
   "name": "python",
   "nbconvert_exporter": "python",
   "pygments_lexer": "ipython3",
   "version": "3.12.5"
  }
 },
 "nbformat": 4,
 "nbformat_minor": 2
}
